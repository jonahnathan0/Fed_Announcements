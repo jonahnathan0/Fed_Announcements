{
 "cells": [
  {
   "cell_type": "code",
   "execution_count": null,
   "id": "a9d8d98c-fb49-4064-87a2-294574928e5b",
   "metadata": {},
   "outputs": [],
   "source": [
    "#pip install -r requirements.txt"
   ]
  },
  {
   "cell_type": "code",
   "execution_count": 1,
   "id": "eb99959e-8bd7-4b0d-be99-1c559e9d2d3c",
   "metadata": {},
   "outputs": [],
   "source": [
    "import streamlit as st\n",
    "import pandas as pd\n",
    "import numpy as np\n",
    "import matplotlib.pyplot as plt\n",
    "import seaborn as sns\n",
    "import plotly.express as px\n",
    "import plotly.graph_objects as go\n",
    "from plotly.subplots import make_subplots\n",
    "import os\n",
    "from datetime import datetime, timedelta\n",
    "import re"
   ]
  },
  {
   "cell_type": "code",
   "execution_count": 3,
   "id": "824bab01-446c-4f97-9be0-da48111b3412",
   "metadata": {},
   "outputs": [],
   "source": [
    "st.set_page_config(\n",
    "    page_title=\"FED Sentiment Analysis Dashboard\",\n",
    "    page_icon=\"📊\",\n",
    "    layout=\"wide\",\n",
    "    initial_sidebar_state=\"expanded\")\n",
    "\n",
    "OUTPUT_DIR = \"dashboard_data\"\n",
    "PROCESSED_DIR = \"processed_data\"\n",
    "ANALYSIS_DIR = \"analysis_data\"\n",
    "\n",
    "for directory in [OUTPUT_DIR, PROCESSED_DIR, ANALYSIS_DIR]:\n",
    "    os.makedirs(directory, exist_ok=True)"
   ]
  },
  {
   "cell_type": "code",
   "execution_count": 5,
   "id": "b5f05a1c-0dc9-48fc-a40f-53f7ede33c79",
   "metadata": {},
   "outputs": [
    {
     "name": "stderr",
     "output_type": "stream",
     "text": [
      "2025-04-28 20:21:55.959 \n",
      "  \u001b[33m\u001b[1mWarning:\u001b[0m to view this Streamlit app on a browser, run it with the following\n",
      "  command:\n",
      "\n",
      "    streamlit run /opt/anaconda3/lib/python3.12/site-packages/ipykernel_launcher.py [ARGUMENTS]\n"
     ]
    },
    {
     "data": {
      "text/plain": [
       "DeltaGenerator()"
      ]
     },
     "execution_count": 5,
     "metadata": {},
     "output_type": "execute_result"
    }
   ],
   "source": [
    "# custom CSS\n",
    "st.markdown(\"\"\"\n",
    "<style>\n",
    ".main-header {\n",
    "    font-size: 2.5rem;\n",
    "    color: #1E3A8A;\n",
    "    text-align: center;\n",
    "    margin-bottom: 1rem;\n",
    "}\n",
    ".sub-header {\n",
    "    font-size: 1.5rem;\n",
    "    color: #1E3A8A;\n",
    "    margin-top: 2rem;\n",
    "    margin-bottom: 1rem;\n",
    "}\n",
    ".chart-container {\n",
    "    background-color: #f8f9fa;\n",
    "    padding: 1rem;\n",
    "    border-radius: 5px;\n",
    "    margin-bottom: 2rem;\n",
    "}\n",
    ".insight-box {\n",
    "    background-color: #e9f7ef;\n",
    "    padding: 1rem;\n",
    "    border-left: 5px solid #27ae60;\n",
    "    margin-bottom: 1rem;\n",
    "}\n",
    "</style>\n",
    "\"\"\", unsafe_allow_html=True)"
   ]
  },
  {
   "cell_type": "code",
   "execution_count": null,
   "id": "74f28ed4-f827-44fa-ad3c-0177815c29d7",
   "metadata": {},
   "outputs": [],
   "source": []
  },
  {
   "cell_type": "code",
   "execution_count": null,
   "id": "4b46de58-a1a1-4e9e-98fd-ab18d496845f",
   "metadata": {},
   "outputs": [],
   "source": []
  },
  {
   "cell_type": "code",
   "execution_count": null,
   "id": "e04e18d0-7284-47d6-8501-0f6418c6e38f",
   "metadata": {},
   "outputs": [],
   "source": []
  },
  {
   "cell_type": "code",
   "execution_count": null,
   "id": "12fe0495-dfaa-4204-86f8-bc9a8ee6efd6",
   "metadata": {},
   "outputs": [],
   "source": []
  },
  {
   "cell_type": "code",
   "execution_count": null,
   "id": "20a92b68-6c13-4927-81b5-76280a4229a5",
   "metadata": {},
   "outputs": [],
   "source": []
  }
 ],
 "metadata": {
  "kernelspec": {
   "display_name": "Python [conda env:base] *",
   "language": "python",
   "name": "conda-base-py"
  },
  "language_info": {
   "codemirror_mode": {
    "name": "ipython",
    "version": 3
   },
   "file_extension": ".py",
   "mimetype": "text/x-python",
   "name": "python",
   "nbconvert_exporter": "python",
   "pygments_lexer": "ipython3",
   "version": "3.12.7"
  }
 },
 "nbformat": 4,
 "nbformat_minor": 5
}
