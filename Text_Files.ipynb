{
 "cells": [
  {
   "cell_type": "markdown",
   "id": "0a2979a8-0669-4f39-93aa-8c22095e0928",
   "metadata": {},
   "source": [
    "### Use this one to get the text files "
   ]
  },
  {
   "cell_type": "markdown",
   "id": "6172aa2e-d077-48b0-8ab4-a33ebe223b09",
   "metadata": {},
   "source": [
    "Need the following files for the past 2024 years.\n",
    "Have someone figure out how to do this - definitely tricky to figure out at the beginning.\n",
    "- FOMC announcement\n",
    "- FOMC meeting transcript\n",
    "- FOMC intermeeting minutes\n",
    "\n",
    "https://www.federalreserve.gov/monetarypolicy/fomc_historical.htm "
   ]
  },
  {
   "cell_type": "code",
   "execution_count": null,
   "id": "e2eb16b9-9f2e-42da-8729-e7610f08cfb1",
   "metadata": {},
   "outputs": [],
   "source": []
  },
  {
   "cell_type": "code",
   "execution_count": null,
   "id": "0183f62c-93d5-47bd-b7ab-7b2f8112aeb9",
   "metadata": {},
   "outputs": [],
   "source": []
  },
  {
   "cell_type": "code",
   "execution_count": null,
   "id": "50ae1534-5005-4284-b545-d6a5c3b77264",
   "metadata": {},
   "outputs": [],
   "source": []
  },
  {
   "cell_type": "code",
   "execution_count": null,
   "id": "af283b75-b2d0-47a6-bdfe-a11ff075ca05",
   "metadata": {},
   "outputs": [],
   "source": []
  }
 ],
 "metadata": {
  "kernelspec": {
   "display_name": "Python [conda env:base] *",
   "language": "python",
   "name": "conda-base-py"
  },
  "language_info": {
   "codemirror_mode": {
    "name": "ipython",
    "version": 3
   },
   "file_extension": ".py",
   "mimetype": "text/x-python",
   "name": "python",
   "nbconvert_exporter": "python",
   "pygments_lexer": "ipython3",
   "version": "3.12.7"
  }
 },
 "nbformat": 4,
 "nbformat_minor": 5
}
