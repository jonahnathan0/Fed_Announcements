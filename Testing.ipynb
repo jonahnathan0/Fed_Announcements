{
 "cells": [
  {
   "cell_type": "markdown",
   "id": "e2fd83a6-d978-4a7b-8454-caf9f60b4cff",
   "metadata": {},
   "source": [
    "### Testing ChatGPT API"
   ]
  },
  {
   "cell_type": "code",
   "execution_count": 7,
   "id": "9cf409f7-0159-41cc-83a5-f5e561b2420f",
   "metadata": {},
   "outputs": [],
   "source": [
    "from openai import OpenAI\n",
    "# secret key "
   ]
  },
  {
   "cell_type": "code",
   "execution_count": 8,
   "id": "9d29e806-a73b-4e25-b5f8-e192aaba8bb8",
   "metadata": {},
   "outputs": [
    {
     "name": "stdout",
     "output_type": "stream",
     "text": [
      "Why don't scientists trust atoms?\n",
      "\n",
      "Because they make up everything!\n"
     ]
    }
   ],
   "source": [
    "response = client.chat.completions.create(\n",
    "    model=\"gpt-4\",\n",
    "    messages=[\n",
    "        {\"role\": \"user\", \"content\": \"Tell me a joke.\"}\n",
    "    ]\n",
    ")\n",
    "\n",
    "print(response.choices[0].message.content)\n"
   ]
  },
  {
   "cell_type": "code",
   "execution_count": 13,
   "id": "ba228e0d-6705-430e-9b7e-98d2c5fc8844",
   "metadata": {},
   "outputs": [
    {
     "name": "stdout",
     "output_type": "stream",
     "text": [
      "in a land far, far away, there existed a kingdom known as Eldorin. Eldorin was a beautiful, prosperous realm known for its verdant forests, crystal-clear rivers and towering mountains that pierced the sky. The people of Eldor\n"
     ]
    }
   ],
   "source": [
    "response = client.chat.completions.create(\n",
    "    model=\"gpt-4\",\n",
    "    messages=[\n",
    "        {\"role\": \"user\", \"content\": \"Once upon a time\"}\n",
    "    ],\n",
    "    max_tokens=50\n",
    ")\n",
    "\n",
    "print(response.choices[0].message.content)\n"
   ]
  },
  {
   "cell_type": "markdown",
   "id": "8f52b858-3165-4edf-9edf-45084f35277a",
   "metadata": {},
   "source": [
    "### lets try and get the prompt stuff working"
   ]
  },
  {
   "cell_type": "code",
   "execution_count": 14,
   "id": "5c288d57-73a3-41c7-af15-451cbe1936d9",
   "metadata": {},
   "outputs": [],
   "source": [
    "from openai import OpenAI\n",
    "\n",
    "# secret key "
   ]
  },
  {
   "cell_type": "code",
   "execution_count": 15,
   "id": "f3a9710f-c380-43ae-9844-f46de06e38c9",
   "metadata": {},
   "outputs": [],
   "source": [
    "\n",
    "fomc_text = \"\"\"\n",
    "Recent indicators suggest that economic activity has continued to expand at a solid pace. Job gains have remained strong, and the unemployment rate has remained low. Inflation has eased over the past year but remains elevated. \n",
    "The Committee seeks to achieve maximum employment and inflation at the rate of 2 percent over the longer run. In support of these goals, the Committee decided to maintain the target range for the federal funds rate at 5-1/4 to 5-1/2 percent.\n",
    "\"\"\"\n",
    "\n",
    "prompt = f\"\"\"\n",
    "You are a financial analyst specializing in monetary policy communications. Read the following FOMC announcement and determine:\n",
    "\n",
    "1. What is the overall sentiment at the beginning of the announcement? (Bearish, Neutral, or Bullish)\n",
    "2. What is the sentiment at the end of the announcement?\n",
    "3. Did the tone shift from Bearish to Bullish, Bullish to Bearish, or remain consistent?\n",
    "4. Provide a brief explanation of the tone shift (or lack thereof).\n",
    "\n",
    "Text:\n",
    "{fomc_text}\n",
    "\"\"\"\n",
    "\n"
   ]
  },
  {
   "cell_type": "code",
   "execution_count": 16,
   "id": "793fc9b8-8ed6-4bcb-a269-3f5bc1616750",
   "metadata": {},
   "outputs": [
    {
     "name": "stdout",
     "output_type": "stream",
     "text": [
      "1. The overall sentiment at the beginning of the announcement is Bullish. The statement indicates that economic activity is expanding at a solid pace, job gains are strong, and the unemployment rate is low. \n",
      "\n",
      "2. The sentiment at the end of the announcement remains Bullish. The Committee has decided to maintain the current target range for the federal funds rate, indicating their confidence in the current economic conditions.\n",
      "\n",
      "3. The tone remains consistent throughout the announcement. It starts off Bullish and maintains that tone until the end.\n",
      "\n",
      "4. There is no tone shift in the announcement. The Committee's positive view on the economy is consistent from the beginning to the end of the announcement. They express confidence in the expanding economy, strong job gains, and low unemployment rate. Their decision to maintain the current federal funds rate further supports this view.\n"
     ]
    }
   ],
   "source": [
    "response = client.chat.completions.create(\n",
    "    model=\"gpt-4\",\n",
    "    messages=[\n",
    "        {\"role\": \"user\", \"content\": prompt}\n",
    "    ],\n",
    "    max_tokens=500,\n",
    "    temperature=0.4\n",
    ")\n",
    "\n",
    "print(response.choices[0].message.content)\n"
   ]
  },
  {
   "cell_type": "code",
   "execution_count": 18,
   "id": "d9ec66ed-b312-4682-a998-7db5d6e12cd2",
   "metadata": {},
   "outputs": [
    {
     "name": "stdout",
     "output_type": "stream",
     "text": [
      "1. The sentiment at the beginning of the announcement is Bullish.\n",
      "2. The sentiment at the end of the announcement is Neutral.\n",
      "3. Yes, the tone shifted from Bullish to Neutral.\n",
      "4. The announcement starts on a positive note, highlighting the strong economic activity, job gains, and low unemployment rate, which indicates a bullish sentiment. However, the tone shifts to neutral towards the end when the Committee decides to maintain the current target range for the federal funds rate, suggesting no immediate changes to stimulate or slow down the economy.\n",
      "5. Based on the overall tone of the document, I would assign a numerical sentiment rating of 0.5. The document starts with a bullish sentiment but ends on a neutral note, hence the average.\n"
     ]
    }
   ],
   "source": [
    "from openai import OpenAI\n",
    "\n",
    "\n",
    "# secret key\n",
    "fomc_text = \"\"\"\n",
    "Recent indicators suggest that economic activity has continued to expand at a solid pace. Job gains have remained strong, and the unemployment rate has remained low. Inflation has eased over the past year but remains elevated. \n",
    "The Committee seeks to achieve maximum employment and inflation at the rate of 2 percent over the longer run. In support of these goals, the Committee decided to maintain the target range for the federal funds rate at 5-1/4 to 5-1/2 percent.\n",
    "\"\"\"\n",
    "\n",
    "prompt = f\"\"\"\n",
    "You are a financial analyst specializing in monetary policy communications. Read the following FOMC announcement and answer the following questions:\n",
    "\n",
    "1. What is the sentiment at the beginning of the announcement? (Bearish, Neutral, Bullish)\n",
    "2. What is the sentiment at the end of the announcement?\n",
    "3. Did the tone shift (e.g., Bearish to Bullish)?\n",
    "4. Briefly explain the tone and any shift.\n",
    "5. Assign a final numerical sentiment rating to the entire document using this scale:\n",
    "    -1 = Bearish\n",
    "     0 = Neutral\n",
    "     1 = Bullish\n",
    "\n",
    "FOMC Text:\n",
    "{fomc_text}\n",
    "\"\"\"\n",
    "\n",
    "response = client.chat.completions.create(\n",
    "    model=\"gpt-4\",\n",
    "    messages=[\n",
    "        {\"role\": \"user\", \"content\": prompt}\n",
    "    ],\n",
    "    max_tokens=500,\n",
    "    temperature=0.4\n",
    ")\n",
    "\n",
    "print(response.choices[0].message.content)\n"
   ]
  },
  {
   "cell_type": "markdown",
   "id": "8b81b0c5-7a5d-48ca-808f-c330b02cb453",
   "metadata": {},
   "source": [
    "### Have the prompt give it an actual rating and extract that rating"
   ]
  },
  {
   "cell_type": "code",
   "execution_count": 26,
   "id": "3c83cef5-5bf1-43c6-a35f-4cc1f3b93692",
   "metadata": {},
   "outputs": [
    {
     "name": "stdout",
     "output_type": "stream",
     "text": [
      "Full Response Text:\n",
      "1. The sentiment at the beginning of the announcement is Bullish.\n",
      "2. The sentiment at the end of the announcement is Neutral.\n",
      "3. Yes, the tone shifted from Bullish to Neutral.\n",
      "4. The tone at the beginning of the announcement is Bullish, indicated by positive economic indicators such as strong job gains, low unemployment rate, and continued expansion of economic activity. However, the tone shifts to Neutral by the end of the announcement, as the Committee decides to maintain the current target range for the federal funds rate, indicating no immediate changes to monetary policy.\n",
      "5. 0.5\n",
      "Extracted Rating: 0.5\n"
     ]
    }
   ],
   "source": [
    "import re\n",
    "from openai import OpenAI\n",
    "\n",
    "#secret key \n",
    "fomc_text = \"\"\"\n",
    "Recent indicators suggest that economic activity has continued to expand at a solid pace. Job gains have remained strong, and the unemployment rate has remained low. Inflation has eased over the past year but remains elevated. \n",
    "The Committee seeks to achieve maximum employment and inflation at the rate of 2 percent over the longer run. In support of these goals, the Committee decided to maintain the target range for the federal funds rate at 5-1/4 to 5-1/2 percent.\n",
    "\"\"\"\n",
    "\n",
    "prompt = f\"\"\"\n",
    "You are a financial analyst specializing in monetary policy communications. Read the following FOMC announcement and answer the following questions:\n",
    "\n",
    "1. What is the sentiment at the beginning of the announcement? (Bearish, Neutral, Bullish)\n",
    "2. What is the sentiment at the end of the announcement?\n",
    "3. Did the tone shift (e.g., Bearish to Bullish)?\n",
    "4. Briefly explain the tone and any shift.\n",
    "5. Provide a final numerical sentiment rating to the entire document based on your analysis of the tone shift and sentiment throughout, using this scale:\n",
    "    -1 = Bearish\n",
    "     0 = Neutral\n",
    "     1 = Bullish\n",
    "     The rating can be a decimal (e.g., -0.5, 0.75, etc.). \n",
    "\n",
    "Just output the rating number without any explanation.\n",
    "\n",
    "FOMC Text:\n",
    "{fomc_text}\n",
    "\"\"\"\n",
    "\n",
    "response = client.chat.completions.create(\n",
    "    model=\"gpt-4\",\n",
    "    messages=[\n",
    "        {\"role\": \"user\", \"content\": prompt}\n",
    "    ],\n",
    "    max_tokens=500,\n",
    "    temperature=0.4\n",
    ")\n",
    "\n",
    "response_text = response.choices[0].message.content\n",
    "print(\"Full Response Text:\")\n",
    "print(response_text)\n",
    "\n",
    "match = re.search(r\"5\\.\\s*(-?\\d*\\.\\d+|\\d+)\", response_text)\n",
    "\n",
    "if match:\n",
    "    extracted_rating = float(match.group(1))  \n",
    "    print(f\"Extracted Rating: {extracted_rating}\")\n",
    "else:\n",
    "    print(\"No rating found\")\n"
   ]
  },
  {
   "cell_type": "code",
   "execution_count": 29,
   "id": "8e9200f1-a990-4c88-b4b3-5d377fb590ba",
   "metadata": {},
   "outputs": [
    {
     "data": {
      "text/plain": [
       "0.5"
      ]
     },
     "execution_count": 29,
     "metadata": {},
     "output_type": "execute_result"
    }
   ],
   "source": [
    "extracted_rating"
   ]
  },
  {
   "cell_type": "markdown",
   "id": "701a70ab-d6a0-4e41-9628-4f3cff7d183e",
   "metadata": {},
   "source": [
    "### Try it on a FED statement (tricky)"
   ]
  },
  {
   "cell_type": "code",
   "execution_count": 30,
   "id": "884570de-27af-4b2e-b9b5-f3d05c94ad45",
   "metadata": {},
   "outputs": [],
   "source": [
    "import re\n",
    "from openai import OpenAI\n",
    "import os\n",
    "from bs4 import BeautifulSoup\n",
    "\n",
    "# secret key "
   ]
  },
  {
   "cell_type": "code",
   "execution_count": 38,
   "id": "705802bc-e632-47fb-98f2-de37d64c61ce",
   "metadata": {},
   "outputs": [
    {
     "name": "stdout",
     "output_type": "stream",
     "text": [
      "Full Response Text:\n",
      "1. The release date of the announcement is February 2, 2000.\n",
      "2. The sentiment at the beginning of the announcement is Bullish.\n",
      "3. The sentiment at the end of the announcement is Bearish.\n",
      "4. Yes, the tone shifted from Bullish to Bearish.\n",
      "5. The announcement begins on a positive note with the Federal Open Market Committee voting to raise its target for the federal funds rate, indicating confidence in the economy. However, as the announcement progresses, the tone becomes more cautious and negative, expressing concerns about potential inflationary imbalances that could undermine the economy's expansion. The statement ends on a bearish note, indicating the risks are weighted towards conditions that may generate heightened inflation pressures.\n",
      "6. -0.5\n",
      "Extracted Rating: -0.5\n"
     ]
    }
   ],
   "source": [
    "import os\n",
    "import re\n",
    "from bs4 import BeautifulSoup\n",
    "from datetime import datetime\n",
    "from openai import OpenAI\n",
    "\n",
    "# secret key \n",
    "\n",
    "# Step 1: Load HTML files and extract dates\n",
    "folder_path = \"raw_data/announcements\"\n",
    "html_files = [f for f in os.listdir(folder_path) if f.endswith(\".html\")]\n",
    "\n",
    "def extract_date_from_filename(filename):\n",
    "    match = re.search(r\"monetary(\\d{8})\", filename)\n",
    "    if match:\n",
    "        return datetime.strptime(match.group(1), \"%Y%m%d\")\n",
    "    return None\n",
    "\n",
    "dated_files = [(extract_date_from_filename(f), f) for f in html_files]\n",
    "dated_files = [pair for pair in dated_files if pair[0] is not None]\n",
    "\n",
    "# Step 2: Find the file with the earliest date\n",
    "dated_files.sort()\n",
    "earliest_file = dated_files[0][1]\n",
    "earliest_path = os.path.join(folder_path, earliest_file)\n",
    "\n",
    "# Step 3: Read HTML and extract text\n",
    "with open(earliest_path, 'r', encoding='utf-8') as f:\n",
    "    soup = BeautifulSoup(f, 'html.parser')\n",
    "    fomc_text = soup.get_text(separator=' ', strip=True)\n",
    "\n",
    "# Step 4: Build prompt\n",
    "prompt = f\"\"\"\n",
    "You are a financial analyst specializing in monetary policy communications. Read the following FOMC announcement and answer the following questions:\n",
    "\n",
    "1. What is the release date of the announcement?\n",
    "2. What is the sentiment at the beginning of the announcement? (Bearish, Neutral, Bullish)\n",
    "3. What is the sentiment at the end of the announcement?\n",
    "4. Did the tone shift (e.g., Bearish to Bullish)?\n",
    "5. Briefly explain the tone and any shift.\n",
    "6. Provide a final numerical sentiment rating to the entire document based on your analysis of the tone shift and sentiment throughout, using this scale:\n",
    "    -1 = Bearish\n",
    "     0 = Neutral\n",
    "     1 = Bullish\n",
    "     The rating can be a decimal (e.g., -0.5, 0.75, etc.). \n",
    "\n",
    "Just output the rating number without any explanation.\n",
    "\n",
    "FOMC Text:\n",
    "{fomc_text}\n",
    "\"\"\"\n",
    "\n",
    "# Step 5: Send to OpenAI\n",
    "response = client.chat.completions.create(\n",
    "    model=\"gpt-4\",\n",
    "    messages=[{\"role\": \"user\", \"content\": prompt}],\n",
    "    max_tokens=500,\n",
    "    temperature=0.4\n",
    ")\n",
    "\n",
    "# Step 6: Parse and extract rating\n",
    "response_text = response.choices[0].message.content\n",
    "print(\"Full Response Text:\")\n",
    "print(response_text)\n",
    "\n",
    "match = re.search(r\"6\\.\\s*(-?\\d*\\.\\d+|\\d+)\", response_text)\n",
    "if match:\n",
    "    extracted_rating = float(match.group(1))\n",
    "    print(f\"Extracted Rating: {extracted_rating}\")\n",
    "else:\n",
    "    print(\"No rating found\")\n"
   ]
  },
  {
   "cell_type": "code",
   "execution_count": null,
   "id": "238acdc4-02d1-45bf-8851-76790ecc1609",
   "metadata": {},
   "outputs": [],
   "source": []
  }
 ],
 "metadata": {
  "kernelspec": {
   "display_name": "Python [conda env:base] *",
   "language": "python",
   "name": "conda-base-py"
  },
  "language_info": {
   "codemirror_mode": {
    "name": "ipython",
    "version": 3
   },
   "file_extension": ".py",
   "mimetype": "text/x-python",
   "name": "python",
   "nbconvert_exporter": "python",
   "pygments_lexer": "ipython3",
   "version": "3.12.7"
  }
 },
 "nbformat": 4,
 "nbformat_minor": 5
}
