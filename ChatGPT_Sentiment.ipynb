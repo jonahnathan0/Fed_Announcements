{
 "cells": [
  {
   "cell_type": "markdown",
   "id": "b72f8be7-66f2-4322-9ab9-998cc78662fd",
   "metadata": {},
   "source": [
    "### ChatGPT Use Case Addition"
   ]
  },
  {
   "cell_type": "markdown",
   "id": "42d4d541-abc4-4720-b75e-e31012fc31fb",
   "metadata": {},
   "source": [
    "pip install openai"
   ]
  },
  {
   "cell_type": "code",
   "execution_count": null,
   "id": "9329c15d-e4c2-4f30-aa0d-fa6d469d4b79",
   "metadata": {},
   "outputs": [],
   "source": [
    "import os\n",
    "import re\n",
    "from bs4 import BeautifulSoup\n",
    "from datetime import datetime\n",
    "import pandas as pd\n",
    "from openai import OpenAI\n",
    "import time  # To optionally add a delay if needed\n",
    "\n",
    "\n",
    "folder_path = \"raw_data/announcements\"\n",
    "html_files = [f for f in os.listdir(folder_path) if f.endswith(\".html\")]\n",
    "\n",
    "def extract_date_from_filename(filename):\n",
    "    match = re.search(r\"monetary(\\d{8})\", filename)\n",
    "    if match:\n",
    "        return datetime.strptime(match.group(1), \"%Y%m%d\")\n",
    "    return None\n",
    "\n",
    "# Pair filenames with their dates\n",
    "dated_files = [(extract_date_from_filename(f), f) for f in html_files]\n",
    "dated_files = [pair for pair in dated_files if pair[0] is not None]\n",
    "dated_files.sort()  # Sort by date\n",
    "\n",
    "ratings = []\n",
    "\n",
    "for date, filename in dated_files:\n",
    "    try:\n",
    "        with open(os.path.join(folder_path, filename), 'r', encoding='utf-8') as f:\n",
    "            soup = BeautifulSoup(f, 'html.parser')\n",
    "            fomc_text = soup.get_text(separator=' ', strip=True)\n",
    "        \n",
    "        prompt = f\"\"\"\n",
    "        You are a financial analyst specializing in monetary policy communications. Read the following FOMC announcement and answer the following questions:\n",
    "\n",
    "        1. What is the sentiment at the beginning of the announcement? (Bearish, Neutral, Bullish)\n",
    "        2. Provide a final numerical sentiment rating to the entire document based on your analysis of the tone shift and sentiment throughout, using this scale:\n",
    "            -1 = Bearish\n",
    "             0 = Neutral\n",
    "             1 = Bullish\n",
    "             The rating can be a decimal (e.g., -0.9,-0.8,-.0.7,-0.6,-0.5, -0.4,-0.3,-0.2,-0.1, 0.1, 0.2, 0.3, 0.4,0.5,0.6,0.7,0.8, 0.9, etc.). \n",
    "\n",
    "        Just output the rating number without any explanation.\n",
    "\n",
    "        FOMC Text:\n",
    "        {fomc_text}\n",
    "        \"\"\"\n",
    "\n",
    "        response = client.chat.completions.create(\n",
    "            model=\"gpt-4\",\n",
    "            messages=[{\"role\": \"user\", \"content\": prompt}],\n",
    "            max_tokens=500,\n",
    "            temperature=0.4\n",
    "        )\n",
    "\n",
    "        response_text = response.choices[0].message.content\n",
    "        match = re.search(r\"2\\.\\s*(-?\\d*\\.\\d+|\\d+)\", response_text)\n",
    "\n",
    "        if match:\n",
    "            extracted_rating = float(match.group(1))\n",
    "        else:\n",
    "            extracted_rating = None  # Or use np.nan if preferred\n",
    "\n",
    "    except Exception as e:\n",
    "        print(f\"Error processing {filename}: {e}\")\n",
    "        extracted_rating = None\n",
    "\n",
    "    ratings.append(extracted_rating)\n",
    "    time.sleep(1.2)  # Optional: throttle requests to avoid hitting rate limits\n",
    "\n",
    "# Create the final DataFrame\n",
    "statements_chat_df = pd.DataFrame(ratings, columns=[\"Sentiment_Rating\"])\n",
    "print(statements_chat_df)\n",
    "print(f\"\\nTotal processed: {len(statements_chat_df)}\")\n"
   ]
  },
  {
   "cell_type": "code",
   "execution_count": null,
   "id": "9df2c984-4d8b-49b8-b1ff-5d91e029511e",
   "metadata": {},
   "outputs": [],
   "source": [
    "statements_chat_df.to_csv('raw_data/statements_chat_df.csv', index = False)"
   ]
  }
 ],
 "metadata": {
  "kernelspec": {
   "display_name": "Python [conda env:base] *",
   "language": "python",
   "name": "conda-base-py"
  },
  "language_info": {
   "codemirror_mode": {
    "name": "ipython",
    "version": 3
   },
   "file_extension": ".py",
   "mimetype": "text/x-python",
   "name": "python",
   "nbconvert_exporter": "python",
   "pygments_lexer": "ipython3",
   "version": "3.12.7"
  }
 },
 "nbformat": 4,
 "nbformat_minor": 5
}
